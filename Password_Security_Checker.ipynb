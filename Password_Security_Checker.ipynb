{
  "nbformat": 4,
  "nbformat_minor": 0,
  "metadata": {
    "colab": {
      "provenance": [],
      "authorship_tag": "ABX9TyMIU8G6njigCbJ8r0yXg+BF",
      "include_colab_link": true
    },
    "kernelspec": {
      "name": "python3",
      "display_name": "Python 3"
    },
    "language_info": {
      "name": "python"
    }
  },
  "cells": [
    {
      "cell_type": "markdown",
      "metadata": {
        "id": "view-in-github",
        "colab_type": "text"
      },
      "source": [
        "<a href=\"https://colab.research.google.com/github/Lailamh/Password_Security_Checker/blob/main/Password_Security_Checker.ipynb\" target=\"_parent\"><img src=\"https://colab.research.google.com/assets/colab-badge.svg\" alt=\"Open In Colab\"/></a>"
      ]
    },
    {
      "cell_type": "code",
      "execution_count": 16,
      "metadata": {
        "id": "DVhrjXVCJq-k",
        "colab": {
          "base_uri": "https://localhost:8080/"
        },
        "outputId": "f06f0d9a-8acd-41e6-86b1-1fd980cd441f"
      },
      "outputs": [
        {
          "output_type": "stream",
          "name": "stdout",
          "text": [
            "Welcome! This will check the security of your password. The closer your password is to 6, the more secure it is. Please enter your password: thisisatest9!\n",
            "Too many lowercase letters. You should add some uppercase letters.\n",
            "The safety of your password is 83.33333333333334 percent. Your password scored a 5 out of 6.\n"
          ]
        }
      ],
      "source": [
        "import re\n",
        "password = input(\"Welcome! This will check the security of your password. The closer your password is to 6, the more secure it is. Please enter your password: \")\n",
        "\n",
        "safety = 0\n",
        "common_passwords = ['12345678910', 'aaaaaaaaaa', 'aaaa', '1234', 'password', 'password!', '123456789', 'abcdefghijklmnopqrstuvwxyz', 'idk', 'randompassword', 'randomPassword']\n",
        "\n",
        "if password not in common_passwords:\n",
        "  #Length check\n",
        "  if len(password) >= 10 and password not in common_passwords:\n",
        "    safety += 1\n",
        "  else:\n",
        "    print(\"Your password is too short.\")\n",
        "\n",
        "\n",
        "  #Number check\n",
        "  if re.search(r\"[0-9]\", password):\n",
        "    safety += 1\n",
        "  else:\n",
        "    print(\"Your password has no numbers. You should add some.\")\n",
        "\n",
        "\n",
        "  #Letter range check (uppercase)\n",
        "  if re.search(r\"[A-Z]\", password):\n",
        "    safety += 1\n",
        "  else:\n",
        "    print(\"Too many lowercase letters. You should add some uppercase letters.\")\n",
        "\n",
        "\n",
        "  #Letter range check (lowercase)\n",
        "  if re.search(r\"[a-z]\", password):\n",
        "    safety += 1\n",
        "  else:\n",
        "    print(\"Too many uppercase letters. You should add some lowercase letters.\")\n",
        "\n",
        "\n",
        "  #Special character check\n",
        "  if re.search(r\"[!@#$%^&*.+=?]\", password):\n",
        "    safety += 1\n",
        "  else:\n",
        "    print(\"Not enough special characters. You should add some. (examples: !, @, #, ?)\")\n",
        "\n",
        "\n",
        "  #Repetativeness check\n",
        "  if re.search(r\"[(.)\\1{2,}]\", password):\n",
        "    print(\"Too many of the same character patterns. You should mix up your characters a bit more.\")\n",
        "  else:\n",
        "    safety += 1\n",
        "\n",
        "\n",
        "else:\n",
        "  print(\"Your password is a very common password. You should have a unique password.\")\n",
        "\n",
        "\n",
        "safety_percentage = (safety / 6) * 100\n",
        "print(\"The safety of your password is\", safety_percentage, 'percent. Your password scored a', safety, 'out of 6.')\n"
      ]
    }
  ]
}